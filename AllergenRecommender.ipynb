{
 "cells": [
  {
   "cell_type": "code",
   "execution_count": 2,
   "metadata": {},
   "outputs": [],
   "source": [
    "import pandas as pd\n",
    "import numpy as np\n",
    "import hybrid_recommend as rec\n",
    "\n",
    "review_df = pd.read_pickle('./data/restaurant_reviews.pkl')\n",
    "restaurant_name_df = pd.read_pickle('./data/restaurant_name_info.pkl')\n",
    "user_item_df = pd.read_pickle('./data/user_item_review_stars.pkl')\n",
    "\n",
    "restaurant_keywords_df = pd.read_pickle('./data/restaurant_TFIDF_keywords_processed.pkl')\n",
    "restaurant_categories_df = pd.read_pickle('./data/restaurant_categories_cleaned.pkl')\n",
    "\n",
    "df_contains = pd.read_pickle('./data/df_allergen_contains.pkl')\n",
    "df_free_from = pd.read_pickle('./data/df_allergen_free_from.pkl')\n",
    "df_dietary = pd.read_pickle('./data/df_dietary_accomodations.pkl')\n",
    "\n",
    "allergen_key_master_list = ['milk','egg','fish','crustacean','tree_nut','peanut','wheat','soy']\n",
    "dietary_key_master_list = ['vegan', 'vegetarian', 'celiac']"
   ]
  },
  {
   "cell_type": "code",
   "execution_count": 7,
   "metadata": {},
   "outputs": [
    {
     "name": "stdout",
     "output_type": "stream",
     "text": [
      "La Bettola di Terroni, 106 Victoria St, Stars: 3.5 , distance: 0.0 \n",
      "Taverna Mercatto, 120 Bremner Boulevard, Stars: 3.5 , distance: 0.0198251425418855 \n",
      "Il Fornello, 2901 Bayview Avenue, Stars: 3.5 , distance: 0.02189597000852328 \n",
      "Hank Daddy's Barbecue, 7777 Keele Street, Suite 11, Stars: 4.0 , distance: 0.023710156458427778 \n",
      "Grazie Ristorante, 9100 Jane Street, Stars: 3.5 , distance: 0.02543679986468461 \n",
      "Grasshopper Restaurant, 310 College Street, Stars: 4.0 , distance: 0.027905198080497046 \n",
      "Banjara Indian Cuisine, 164 Eglinton Avenue E, Stars: 3.5 , distance: 0.05 \n",
      "El Furniture Warehouse - Bloor St, 410 Bloor St West, Stars: 3.0 , distance: 0.05 \n",
      "Me Va Me, 7000 Bathurst Street, Stars: 3.5 , distance: 0.05 \n",
      "Bannock, 401 Bay Street, Stars: 3.5 , distance: 0.05484771179405501 \n"
     ]
    }
   ],
   "source": [
    "#User input -> two restaurants that they already enjoy\n",
    "given_restaurant_name_1 = 'STACK'\n",
    "given_restaurant_name_2 = 'Pizzeria Libretto'\n",
    "\n",
    "#User input -> allergies and dietary accomodations\n",
    "given_allergen_key_list = ['peanut']\n",
    "given_dietary_key_list = ['vegetarian']\n",
    "\n",
    "\n",
    "\n",
    "# Content-based neighbours from given restaurants\n",
    "given_restaurant_id1 = restaurant_name_df[restaurant_name_df['name']==given_restaurant_name_1].index[0]\n",
    "given_restaurant_id2 = restaurant_name_df[restaurant_name_df['name']==given_restaurant_name_2].index[0]\n",
    "\n",
    "content_neighbours_1 = rec.get_restaurant_neighbours(given_restaurant_id1, restaurant_keywords_df, restaurant_categories_df, restaurant_name_df, K = 50)\n",
    "content_neighbours_2 = rec.get_restaurant_neighbours(given_restaurant_id2, restaurant_keywords_df, restaurant_categories_df, restaurant_name_df, K = 50)\n",
    "\n",
    "# Based off of user's input restaurants, create mock user to compare to existing users\n",
    "mock_user = pd.DataFrame(0.0, columns=user_item_df.columns, index = ['mock_user'])\n",
    "mock_user[[given_restaurant_id1,given_restaurant_id2]] = 5.0\n",
    "\n",
    "# Neighbours to mock user from user-item filtering\n",
    "neighbours_to_mock_user = rec.get_neighbour_user_ids(mock_user, user_item_df, K = 10)\n",
    "user_neighbours = rec.get_restaurant_ids_from_neighbour_users(mock_user, neighbours_to_mock_user, user_item_df = user_item_df)\n",
    "\n",
    "#Combine all neighbours and remove duplicates and close name matches (for chain restaurants)\n",
    "combined_neighbours = rec.scale_neighbour_distance(content_neighbours_1) + rec.scale_neighbour_distance(content_neighbours_2) + rec.scale_neighbour_distance(user_neighbours,to_add = 0.05)\n",
    "combined_neighbours = rec.remove_dupe_neighbours(combined_neighbours,restaurant_name_df)\n",
    "\n",
    "# Re-rank neighbours based off of user's input allergies and dietary accomodation requests\n",
    "allergy_adjusted_neighbours = rec.re_rank_neighbours(combined_neighbours, df_contains,df_free_from, df_dietary, given_allergen_key_list, given_dietary_key_list)\n",
    "\n",
    "# Print top 10 recommendations\n",
    "rec.print_recommendations(allergy_adjusted_neighbours[:10],restaurant_name_df)"
   ]
  },
  {
   "cell_type": "code",
   "execution_count": null,
   "metadata": {},
   "outputs": [],
   "source": []
  },
  {
   "cell_type": "code",
   "execution_count": null,
   "metadata": {},
   "outputs": [],
   "source": []
  }
 ],
 "metadata": {
  "kernelspec": {
   "display_name": "Python 3",
   "language": "python",
   "name": "python3"
  },
  "language_info": {
   "codemirror_mode": {
    "name": "ipython",
    "version": 3
   },
   "file_extension": ".py",
   "mimetype": "text/x-python",
   "name": "python",
   "nbconvert_exporter": "python",
   "pygments_lexer": "ipython3",
   "version": "3.7.6"
  }
 },
 "nbformat": 4,
 "nbformat_minor": 4
}
