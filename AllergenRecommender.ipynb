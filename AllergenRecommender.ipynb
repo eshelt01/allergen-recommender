{
 "cells": [
  {
   "cell_type": "code",
   "execution_count": 1,
   "metadata": {},
   "outputs": [],
   "source": [
    "import pandas as pd\n",
    "import numpy as np\n",
    "import hybrid_recommend as rec\n",
    "\n",
    "restaurant_name_df = pd.read_pickle('./data/restaurant_name_info.pkl')\n",
    "user_item_df = pd.read_pickle('./data/user_item_review_stars.pkl')\n",
    "\n",
    "restaurant_keywords_df = pd.read_pickle('./data/restaurant_TFIDF_keywords_processed.pkl')\n",
    "restaurant_categories_df = pd.read_pickle('./data/restaurant_categories_cleaned.pkl')\n",
    "\n",
    "df_contains = pd.read_pickle('./data/df_allergen_contains.pkl')\n",
    "df_free_from = pd.read_pickle('./data/df_allergen_free_from.pkl')\n",
    "df_dietary = pd.read_pickle('./data/df_dietary_accomodations.pkl')\n",
    "\n",
    "allergen_key_master_list = ['milk','egg','fish','crustacean','tree_nut','peanut','wheat','soy']\n",
    "dietary_key_master_list = ['vegan', 'vegetarian', 'celiac']"
   ]
  },
  {
   "cell_type": "code",
   "execution_count": 53,
   "metadata": {},
   "outputs": [
    {
     "name": "stdout",
     "output_type": "stream",
     "text": [
      "Top Gun  Burgers, 251 Augusta Avenue, Stars: 4.0 , distance: 0.0 \n",
      "illstyl3 Sammies, 300 Richmond Street W, Stars: 4.5 , distance: 0.0014788207514072615 \n",
      "Two Guys From Italy, 128 Queen Street S, Stars: 3.5 , distance: 0.05 \n",
      "Señor Burrito, 2155 Leanne Boulevard, Stars: 4.0 , distance: 0.05 \n",
      "Bellwoods Brewery, 124-126 Ossington Avenue, Stars: 4.0 , distance: 0.05 \n",
      "Swiss Chalet Rotisserie & Grill, 1455 Dundas St East, Stars: 2.5 , distance: 0.060677083750675334 \n",
      "George's Greek Grill, 622 Bloor Street, Stars: 4.5 , distance: 0.060677083750675334 \n",
      "Stuttering John's Smokehouse, 3-1501 Hopkins Street, Stars: 4.0 , distance: 0.0686238695642365 \n",
      "The Fish Store & Sandwiches, 657 College Street, Stars: 4.0 , distance: 0.07723617882329444 \n",
      "Glory Hole Doughnuts, 1596 Queen Street W, Stars: 3.5 , distance: 0.07723617882329444 \n",
      "The Stockyards, 699 St. Clair Avenue W, Stars: 4.0 , distance: 0.07723617882329444 \n",
      "Leslieville Pumps, 929 Queen Street E, Stars: 3.5 , distance: 0.08617165784574254 \n",
      "Banjara Indian Cuisine, 164 Eglinton Avenue E, Stars: 3.5 , distance: 0.09633498951865689 \n",
      "El Furniture Warehouse - Bloor St, 410 Bloor St West, Stars: 3.0 , distance: 0.09633498951865689 \n",
      "Me Va Me, 7000 Bathurst Street, Stars: 3.5 , distance: 0.09633498951865689 \n",
      "On the Bun Burgers, 5030 Maingate Drive, Suite 11, Stars: 4.0 , distance: 0.10462980491758977 \n",
      "George's BBQ Chicken, 1042 Pape Avenue, Stars: 3.0 , distance: 0.11092744725639077 \n",
      "Wow Sushi, 11 Charles Street, Stars: 4.0 , distance: 0.11092744725639077 \n",
      "Fresco's Fish & Chips, 201 Augusta Avenue, Stars: 4.5 , distance: 0.11092744725639077 \n",
      "Tortería San Cosme, 181 Baldwin Street, Stars: 3.5 , distance: 0.11226339205689961 \n"
     ]
    }
   ],
   "source": [
    "#User input -> two restaurants that they already enjoy\n",
    "restaurant_names = ['STACK', 'Holy Smokez BBQ Sandwiches']\n",
    "\n",
    "#User input -> allergies and dietary accomodations\n",
    "given_allergen_key_list = []\n",
    "given_dietary_key_list = []\n",
    "\n",
    "# Content-based neighbours from given restaurants\n",
    "\n",
    "neighbours = rec.recommend(restaurant_names, given_allergen_key_list, given_dietary_key_list, restaurant_name_df, restaurant_keywords_df, restaurant_categories_df, user_item_df, df_contains,df_free_from, df_dietary)\n",
    "# Print top 10 recommendations\n",
    "rec.print_recommendations(neighbours[:20],restaurant_name_df)"
   ]
  },
  {
   "cell_type": "code",
   "execution_count": 55,
   "metadata": {},
   "outputs": [
    {
     "name": "stdout",
     "output_type": "stream",
     "text": [
      "Doomie's Toronto, 1346 Queen St W, Stars: 3.5 , distance: -0.2217026781119793 \n",
      "The Hogtown Vegan, 1056 Bloor St. W, Stars: 4.0 , distance: -0.18314639025019203 \n",
      "Grasshopper Restaurant, 310 College Street, Stars: 4.0 , distance: -0.15194665377135486 \n",
      "illstyl3 Sammies, 300 Richmond Street W, Stars: 4.5 , distance: 0.0014788207514072615 \n",
      "Top Gun  Burgers, 251 Augusta Avenue, Stars: 4.0 , distance: 0.006285714285714286 \n",
      "Two Guys From Italy, 128 Queen Street S, Stars: 3.5 , distance: 0.05 \n",
      "Señor Burrito, 2155 Leanne Boulevard, Stars: 4.0 , distance: 0.05 \n",
      "Bellwoods Brewery, 124-126 Ossington Avenue, Stars: 4.0 , distance: 0.05 \n",
      "Swiss Chalet Rotisserie & Grill, 1455 Dundas St East, Stars: 2.5 , distance: 0.060677083750675334 \n",
      "George's Greek Grill, 622 Bloor Street, Stars: 4.5 , distance: 0.060677083750675334 \n",
      "Glory Hole Doughnuts, 1596 Queen Street W, Stars: 3.5 , distance: 0.06821978538067149 \n",
      "Stuttering John's Smokehouse, 3-1501 Hopkins Street, Stars: 4.0 , distance: 0.0686238695642365 \n",
      "The Fish Store & Sandwiches, 657 College Street, Stars: 4.0 , distance: 0.07723617882329444 \n",
      "The Stockyards, 699 St. Clair Avenue W, Stars: 4.0 , distance: 0.07723617882329444 \n",
      "Banjara Indian Cuisine, 164 Eglinton Avenue E, Stars: 3.5 , distance: 0.0799170790708957 \n",
      "Leslieville Pumps, 929 Queen Street E, Stars: 3.5 , distance: 0.08617165784574254 \n",
      "El Furniture Warehouse - Bloor St, 410 Bloor St West, Stars: 3.0 , distance: 0.0893286200919053 \n",
      "Brock Sandwich, 1260 Bloor Street W, Stars: 4.5 , distance: 0.09330332877423149 \n",
      "Me Va Me, 7000 Bathurst Street, Stars: 3.5 , distance: 0.09633498951865689 \n",
      "On the Bun Burgers, 5030 Maingate Drive, Suite 11, Stars: 4.0 , distance: 0.10462980491758977 \n"
     ]
    }
   ],
   "source": [
    "#User input -> two restaurants that they already enjoy\n",
    "restaurant_names = ['STACK', 'Holy Smokez BBQ Sandwiches']\n",
    "\n",
    "#User input -> allergies and dietary accomodations\n",
    "given_allergen_key_list = []\n",
    "given_dietary_key_list = ['vegan']\n",
    "\n",
    "# Content-based neighbours from given restaurants\n",
    "\n",
    "neighbours = rec.recommend(restaurant_names, given_allergen_key_list, given_dietary_key_list, restaurant_name_df, restaurant_keywords_df, restaurant_categories_df, user_item_df, df_contains,df_free_from, df_dietary)\n",
    "# Print top 10 recommendations\n",
    "rec.print_recommendations(neighbours[:20],restaurant_name_df)"
   ]
  },
  {
   "cell_type": "code",
   "execution_count": 100,
   "metadata": {},
   "outputs": [
    {
     "name": "stdout",
     "output_type": "stream",
     "text": [
      "Melodie's, 230 Commerce Valley Drive E, Unit 8, Stars: 4.0 , distance: 0.0 \n",
      "Page One, 106 Mutual Street, Unit 8, Stars: 4.0 , distance: 0.0003588471558961803 \n",
      "Gallo Churrasqueira, 9750 Weston Road, Unit 11, Stars: 3.5 , distance: 0.004251434722270964 \n",
      "Mr. Greek, 6015 Steeles Avenue E, Stars: 2.5 , distance: 0.023867524530227446 \n",
      "Epic Pita, 16 Vogell Road, Stars: 3.0 , distance: 0.02814576173190586 \n",
      "Galito's Flame Grilled Chicken, 5200 Dixie Road, Stars: 3.5 , distance: 0.043666596658628376 \n",
      "Tabule Restaurant, 2009 Yonge Street, Stars: 4.0 , distance: 0.045059971110318675 \n",
      "Aroma Espresso Bar, Square One Shopping Centre, 100 City Centre Drive, Stars: 3.0 , distance: 0.05 \n",
      "Wingporium, 170 Lakeshore Rd E, Stars: 4.0 , distance: 0.05 \n",
      "McDonald's, 1256 Eglinton Ave W, Stars: 3.5 , distance: 0.05 \n",
      "Roman Zaman, 325 Central Parkway W, Unit 8, Stars: 3.5 , distance: 0.05 \n",
      "Greek Brothers, 3603 Langstaff Road, Stars: 4.0 , distance: 0.05045891415931769 \n",
      "Thai Home, 133 Roncesvalles Avenue, Stars: 3.5 , distance: 0.051891738917483 \n",
      "Stavro's Greek Restaurant & Lounge, 11 Pearl Street, Stars: 4.0 , distance: 0.054217626342038194 \n",
      "Cantanhede O Bairradino, 662 Lansdowne Avenue, Stars: 4.0 , distance: 0.06490648836089541 \n",
      "Greek Stop, 90 Courtneypark Drive  E, Unit 3, Stars: 2.5 , distance: 0.06560813858793368 \n",
      "Plaka, 2601 Matheson Boulevard E, Stars: 4.0 , distance: 0.07184964896476675 \n",
      "Jatujak Thai Cuisine, 5651 Steeles Avenue E, #7-8, Stars: 3.5 , distance: 0.07257500196033395 \n",
      "Thai Elephant, 813 Queen Street W, Stars: 3.5 , distance: 0.0732492876088634 \n",
      "Afghan Kebob Cuisine, 2298A Islington Avenue, Stars: 3.5 , distance: 0.07421519852224567 \n",
      "Sam James Coffee Bar, 150 King Street W, Stars: 4.0 , distance: 0.07645491827319317 \n",
      "Silk Road Kabob House, 736 Bay Street, Stars: 3.5 , distance: 0.07801816605237943 \n",
      "Village Juicery, 540 College Street, Stars: 4.5 , distance: 0.07937120378328917 \n",
      "The Depanneur, 1033A College Street, Stars: 4.0 , distance: 0.07937120378328917 \n",
      "Boxcar Social, 1208 Yonge Street, Stars: 4.0 , distance: 0.07937120378328917 \n",
      "Millie Creperie, 161 Baldwin Street, Stars: 4.0 , distance: 0.07937120378328917 \n",
      "Pastel Creperies & Dessert House, 5417 Yonge Street, Stars: 4.0 , distance: 0.07937120378328917 \n",
      "Han Ba Tang, 4862 Yonge Street, Stars: 3.5 , distance: 0.07937120378328917 \n",
      "Cafe Bene, 5519 Yonge Street, Stars: 3.5 , distance: 0.07937120378328917 \n",
      "Fishman Lobster Clubhouse Restaurant, 4020 Finch Avenue E, Stars: 4.0 , distance: 0.07937120378328917 \n",
      "Eat Canteen, 100 Wellington Street West, Stars: 4.0 , distance: 0.08296025297486187 \n",
      "Ezra's Pound, 238 Dupont Street, Stars: 4.0 , distance: 0.08418517682912863 \n",
      "Pita Pavilion, 561 Marlee Avenue, Stars: 4.5 , distance: 0.08550156295565448 \n",
      "Ghazale, 3180 Lake Shore Boulevard W, Stars: 3.5 , distance: 0.08587445946307237 \n",
      "Sweet Lulu, 350 Bay Street, Stars: 3.5 , distance: 0.08601015311256321 \n",
      "Betty's, 240 King Street E, Stars: 3.5 , distance: 0.08610565340365328 \n",
      "Te Aro, 983 Queen Street E, Stars: 4.0 , distance: 0.08688251906373778 \n",
      "Salad House, 13 Hayden Street, Stars: 4.5 , distance: 0.08697346590127508 \n",
      "Fattoush Mediterranean Grill, 17 Ray Lawson Boulevard, Unit 2, Stars: 4.0 , distance: 0.08753140485098354 \n",
      "Dineen Coffee, 140 Yonge St, Stars: 4.0 , distance: 0.08803944778376005 \n"
     ]
    }
   ],
   "source": [
    "#User input -> two restaurants that they already enjoy\n",
    "restaurant_names = ['Boxcar Social', 'Harvest Green']\n",
    "\n",
    "#User input -> allergies and dietary accomodations\n",
    "given_allergen_key_list = []\n",
    "given_dietary_key_list = []\n",
    "\n",
    "# Content-based neighbours from given restaurants\n",
    "\n",
    "neighbours = rec.recommend(restaurant_names, given_allergen_key_list, given_dietary_key_list, restaurant_name_df, restaurant_keywords_df, restaurant_categories_df, user_item_df, df_contains,df_free_from, df_dietary)\n",
    "# Print top 10 recommendations\n",
    "rec.print_recommendations(neighbours[:40],restaurant_name_df)"
   ]
  },
  {
   "cell_type": "code",
   "execution_count": 99,
   "metadata": {},
   "outputs": [
    {
     "name": "stdout",
     "output_type": "stream",
     "text": [
      "Melodie's, 230 Commerce Valley Drive E, Unit 8, Stars: 4.0 , distance: -0.061111111111111116 \n",
      "Gallo Churrasqueira, 9750 Weston Road, Unit 11, Stars: 3.5 , distance: 0.004251434722270964 \n",
      "Epic Pita, 16 Vogell Road, Stars: 3.0 , distance: 0.02814576173190586 \n",
      "Galito's Flame Grilled Chicken, 5200 Dixie Road, Stars: 3.5 , distance: 0.043666596658628376 \n",
      "Wingporium, 170 Lakeshore Rd E, Stars: 4.0 , distance: 0.05 \n",
      "McDonald's, 1256 Eglinton Ave W, Stars: 3.5 , distance: 0.05 \n",
      "Roman Zaman, 325 Central Parkway W, Unit 8, Stars: 3.5 , distance: 0.05 \n",
      "Greek Brothers, 3603 Langstaff Road, Stars: 4.0 , distance: 0.05045891415931769 \n",
      "Stavro's Greek Restaurant & Lounge, 11 Pearl Street, Stars: 4.0 , distance: 0.054217626342038194 \n",
      "Jatujak Thai Cuisine, 5651 Steeles Avenue E, #7-8, Stars: 3.5 , distance: 0.05993132379941441 \n",
      "Cantanhede O Bairradino, 662 Lansdowne Avenue, Stars: 4.0 , distance: 0.06490648836089541 \n",
      "Greek Stop, 90 Courtneypark Drive  E, Unit 3, Stars: 2.5 , distance: 0.06560813858793368 \n",
      "Plaka, 2601 Matheson Boulevard E, Stars: 4.0 , distance: 0.07184964896476675 \n",
      "Tabule Restaurant, 2009 Yonge Street, Stars: 4.0 , distance: 0.07222532544102733 \n",
      "Mr. Greek, 6015 Steeles Avenue E, Stars: 2.5 , distance: 0.07386752453022745 \n",
      "Afghan Kebob Cuisine, 2298A Islington Avenue, Stars: 3.5 , distance: 0.07421519852224567 \n",
      "Han Ba Tang, 4862 Yonge Street, Stars: 3.5 , distance: 0.07562970718464972 \n",
      "Silk Road Kabob House, 736 Bay Street, Stars: 3.5 , distance: 0.07801816605237943 \n",
      "Eat Canteen, 100 Wellington Street West, Stars: 4.0 , distance: 0.08296025297486187 \n",
      "Thai Home, 133 Roncesvalles Avenue, Stars: 3.5 , distance: 0.08424468009395358 \n",
      "Pita Pavilion, 561 Marlee Avenue, Stars: 4.5 , distance: 0.08550156295565448 \n",
      "Ghazale, 3180 Lake Shore Boulevard W, Stars: 3.5 , distance: 0.08587445946307237 \n",
      "Betty's, 240 King Street E, Stars: 3.5 , distance: 0.08610565340365328 \n",
      "Salad House, 13 Hayden Street, Stars: 4.5 , distance: 0.08697346590127508 \n",
      "Fattoush Mediterranean Grill, 17 Ray Lawson Boulevard, Unit 2, Stars: 4.0 , distance: 0.08753140485098354 \n",
      "Flock Rotisserie + Greens, 661 University Avenue, Stars: 3.5 , distance: 0.0901542002141027 \n",
      "Sido Shawarma, 936 Dixon Road, Stars: 3.5 , distance: 0.09051394003812854 \n",
      "Thai Elephant, 813 Queen Street W, Stars: 3.5 , distance: 0.09244120680078259 \n",
      "Boxcar Social, 1208 Yonge Street, Stars: 4.0 , distance: 0.09265791707000245 \n",
      "Basil Box, 100 City Centre Drive, Stars: 4.0 , distance: 0.09266220920463789 \n",
      "Page One, 106 Mutual Street, Unit 8, Stars: 4.0 , distance: 0.09674438932457088 \n",
      "Tequila Bookworm, 512 Queen Street W, Stars: 3.5 , distance: 0.09740517186270413 \n",
      "Osmow's, 80 Courtneypark Drive E, Stars: 3.0 , distance: 0.09900824182717993 \n",
      "Churrasqueira Nova Esperanca, 2-110 Brickyard Way, Stars: 4.0 , distance: 0.09973777728620437 \n",
      "Freshii, 23 College St, Stars: 3.0 , distance: 0.10135152324037144 \n",
      "Cabin Fever, 1669 Bloor Street W, Stars: 4.5 , distance: 0.10177095971905326 \n",
      "Sweet Lulu, 350 Bay Street, Stars: 3.5 , distance: 0.10267681977922988 \n",
      "Zeytouna, 10 Dundas Street E, Level 3, Stars: 2.5 , distance: 0.10341306171995346 \n",
      "Eli's Table, 9421 Jane St, Unit 123, Stars: 4.5 , distance: 0.10556941554952304 \n",
      "Palmyra Mediterranean House, 5555 Eglinton Avenue W, Unit 110, Stars: 4.5 , distance: 0.10681605003602546 \n"
     ]
    }
   ],
   "source": [
    "#User input -> two restaurants that they already enjoy\n",
    "restaurant_names = ['Boxcar Social', 'Harvest Green']\n",
    "\n",
    "#User input -> allergies and dietary accomodations\n",
    "given_allergen_key_list = ['tree_nut']\n",
    "given_dietary_key_list = []\n",
    "\n",
    "# Content-based neighbours from given restaurants\n",
    "\n",
    "neighbours = rec.recommend(restaurant_names, given_allergen_key_list, given_dietary_key_list, restaurant_name_df, restaurant_keywords_df, restaurant_categories_df, user_item_df, df_contains,df_free_from, df_dietary)\n",
    "# Print top 10 recommendations\n",
    "rec.print_recommendations(neighbours[:40],restaurant_name_df)"
   ]
  },
  {
   "cell_type": "code",
   "execution_count": 79,
   "metadata": {},
   "outputs": [],
   "source": [
    "reviews_df = pd.read_pickle('./data/restaurant_reviews.pkl')\n",
    "id_1 = restaurant_name_df[restaurant_name_df['name']=='Page One']\n",
    "id_1 = id_1.index[0]"
   ]
  },
  {
   "cell_type": "code",
   "execution_count": 88,
   "metadata": {},
   "outputs": [],
   "source": [
    "text = str(reviews_df[reviews_df['business_id']==id_1].text.values)"
   ]
  },
  {
   "cell_type": "code",
   "execution_count": null,
   "metadata": {},
   "outputs": [],
   "source": []
  },
  {
   "cell_type": "code",
   "execution_count": 90,
   "metadata": {},
   "outputs": [
    {
     "data": {
      "text/plain": [
       "'[\"The ambience is very welcoming. Once we got the menu we realized that there really isn\\'t much variety here. We went with a cauliflower falafel panini and paired it with a GLB IPA. \\\\n\\\\nThe food arrived quickly, and it tasted pretty good. \\\\n\\\\nWe finished the meal with a latte and a pecan square. The pecan square was really good. Sweet, melt-in-your-mouth, delicate buttery crust. It was hard to share, but share it we did.\\\\n\\\\nI\\'m glad we tried this new spot for a quick snack, but I\\'m in no hurry o go back. It\\'s not so much about the food, or beer, or dessert...it is more about the prices, and the limited menu choices.\"\\n \\'Good vibes, fast wifi, and reasonably priced coffee :)\\\\nHappened to catch a live performance on Sunday afternoon when I was there too!\\'\\n \"Love this place... So friendly and the coffee is great ... If you need something stronger than coffee they have that too ... Can\\'t wait to go back\"\\n \\'The baristas are so pretty and their smiles warm my heart :) good place to chill and study\\'\\n \"I love that this writers bar/cafe is sooo close to my place! It\\'s cool to just chill and hangout with your friends. I held a book club here.. very welcoming servers and staff. AND they have board games and couches in the back. #weekendmade \\\\nOnly it\\'s a bit dark.\"\\n \\'Excellent customer service, scrumptious drinks and food. Honestly one of the best coffee shops in town.\\'\\n \\'We are attending a conference at Ryerson and happened to stop in this place-we love it! Went twice in one day. Great appetizers and beer and wine selection. Looks like they serve coffees as well. The cheese platter and Mediterranean platter was excellent and best of all they had great service! They stayed open late for our group!\\'\\n \\'I would give the place a ZERO, but the lowest option is a 1! From the sour looking server, to the $9.00 dollar two bite sandwich that came with not one, but two strands of hair, to the $4.00 tepid minuscule cappuccino... the whole experience was a disaster. Not to mention that at 3:30pm I was told that 3 out of the 4 sandwiches on the menu board \"could not be done right now\". So I had the one and only they were serving, salami and brie, the salami was flavorless and the brie was barely there, by the way the place closes at 11pm so I don\\\\\\'t understand the lack of ability to make the sandwiches written on the menu board!  The only good thing I have to say was that the seating arrangement is great, very welcoming, it also has a good vibe. If only the food matched the ambience!\\'\\n \\'I initially rated Page One as 2 stars but upon visiting again, I realized we all have bad days and good days.\\'\\n \"Gahhh, I love the interior of this place; it\\'s so retro and unique! They have a display of different typewriters... their rating on the cool scale just hit max.\\\\n\\\\nOkay, fan-girling about the interior aside, the coffee here is pretty good. I got the latte for a decent price and decent size. The taste was great and the latte art was beautiful. They have talented baristas here. They\\'re also super friendly and down-to-earth. My first experience here was a good one because of that. They also have a points card here!\\\\n\\\\nIt\\'s located downtown, but kind of in the middle of nowhere... off to the side of a really sketchy road. Don\\'t let looks deceive you though, this place is not sketchy at all. I\\'m actually really glad I discovered it. It seems like a place that would be overlooked; totally underrated!\"\\n \\'This is absolutely my new favorite spot! It is located in the old historic merchandise building loft on church and Dundas in the \"gardens\" district of Toronto, just a couple of blocks away from Dundas square and right behind Ryerson University.\\\\nThe staff is really friendly and the decor is a spots die for.\\\\nMy favorite spot in the store? The corner at the end with comfortable and cozy couches and lazy boy chair, and rustic table and Persian carpet.\\\\nI had an amazing cappuccino, which is not made in a to go paper cup but in a nice ceramic cup. It tastes delicious.\\\\nI was a little bit hungry so I tried one of their organic sandwiches with chicken and it was superb!\\\\nThe place is decorated with neat art and photography of a photograph that actually lives in the same building.\\\\nThe music is also very good too and relaxing. It is really nice to come and work here, great atmosphere. Definitely recommended place.\\'\\n \"I\\'ve been there once, and it was the best experience! I loved the service, the interior was so chill and cozy. \\\\nPerfect Study spot!\"\\n \"I\\'d been eyeing this place for a while on Yelp but hadn\\'t found my way to the area until recently. The cafe has a very welcoming feel to it, with quaintly decorated bookshelves and long wooden tables. \\\\n\\\\nI really like that this place has a lot of options, such as almond or soy milk, lots of Pluck tea and specialty coffee options. The baked goods (cookies and muffins) looked fresh and appetizing. Their refrigerated food area also had a lot of healthier food choices such as protein and veggie bowls that are compatible with gluten free and vegetarian diets.\\\\n\\\\nI ordered a London Fog with almond milk to go. I appreciated that it wasn\\'t filled with all sorts of artificial sweeteners and maintained the inherent sweetness of the almond milk. \\\\n\\\\nI wish Page One had been around when I was a student! I would have definitely spent a lot of time there. Would definitely come back if in the area.\\\\n\\\\n3/100 (2017)\"\\n \\'I have been coming here quite frequently in the last couple of months.\\\\nI bring in my laptop and just work my day away.\\\\nI used to bring my headphones but I do quite enjoy the music they are playing so it works for me.\\\\nI usually have a medium size cappuccino and I do not agree with other reviewers about the prices (???) it is pretty cheap especially compared to big name chain companies that are all over the planet where they charge $5 for a simple cup of coffee and that are always packed thanks to their marketing strategies - even though I have to admit I do also go to these places from time to time and enjoy my coffee there -\\\\nBut at least here it is more authentic and your money goes towards local people instead of a multi billion dollar corporation.\\\\nThe other day I also tried one of their cookies and to be honest I still thinking about pop in every day just to get it again!\\\\nRecommended if you want something a little bit different than the usual coffee place. They serve alcohol too.\\'\\n \"I really like this place! I really do!\\\\nThey\\'ve just opened, so there is room for things to go south, but I am optimistic and hopeful. I\\'ve been to Page One a few times already, and I have noticed an increase in clientèle since their first week. So I really hope they keep it up!\\\\n\\\\nCoffee is good. They don\\'t just hand you a paper cup if you are sitting in to do work, which I like. The staff are always friendly. I have not had beer, but I have tried the ones they have on tap - so good selection!\\\\n\\\\nFood is also surprisingly good. When I noticed they are pre-packaged, I was a little heart broken, but they were delicious! I had a salad one time (can\\'t recall which one), and I had the yam and goat cheese panini (they heat it up for you) and it was sooo good! Tad bit pricey, but  not super unreasonable. \\\\n\\\\nAnother thing I love about this place - the music and the ambiance. It\\'s warm, cozy and I adore the fresh flowers on the tables. I don\\'t usually drink alone at restaurants, but I would be totally okay to sip a beer by myself here, or even sharing the communal table with a few strangers.\"\\n \\'Cute and cozy cafe at mutual street! Our barista was wonderful he made the coffee art and chatted with us for awhile! We got the mocha and a latte with a hazelnut shot! Was great, good place to study and would love coming back here!\\'\\n \\'Excellent London Fog. Charming and trendy,  great for students  to sit down and have a coffee and get some work done...oh and they serve alcohol too!\\'\\n \\'Met a friend here, for a quick cup of coffee. The cafe is located at a nice location. The interior is decent and basic. Coffee was excellent.\\'\\n \"How could I NOT love a coffee bar with a liqour license and vintage typewriters all over the place? I need to come here and write...\\\\n\\\\nSolid offerings and a great space to enjoy them in. What\\'s not to love?\"\\n \"Went back on a Wednesday around 7 pm to give this coffee shop another try and even though my experience this time was a lot better, it was still nothing extraordinary\\\\u200b. I called in beforehand to make sure I could order from the coffee menu and the guy told me that even though they stop serving regular coffee at 4 pm, I could order anything else from the menu such as cappuccino\\\\u200bs, lattes, etc. I went with my family and we ordered 2 mochas, 2 lattes, 1 chai tea, and a small date tart. None of our drinks had any fun designs. They either had a small heart or some swirls on the foam. A little bit overpriced but the latte and the tart tasted good however my mom found the mocha to be a little cold. However, my biggest problem this time was with the service again. Even though the barista wasn\\'t rude this time, he wasn\\'t by any means friendly either. No hello, or thank you, or bye or you\\'re welcome. Very cold demeanor\\\\u200b and it felt like he was tired and ready to go home. On the other hand, a great pro was their patio and the fact that they were offering $5 beers.\"\\n \"Could be a blessing or a curse to work across from this place. Depends on how you really look at it and as an aspiring barista and coffee roaster this place just might derail my aspirations just a bit.\\\\n\\\\nThey are quite hidden. On a rather quiet street in a monstrous yet very dull looking building right beside of all things a Subway and a chain supermarket. Not exactly in with the premium crowd. From the outside it\\'s rather unassuming but once you walk in the atmosphere is modern, chic with rustic touches. Lots of warm wood, hard concrete and industrial steel. It\\'s actually quite inviting and I love the vintage classroom chairs. The baristas know their craft here so be at ease, order away and enjoy! So far every drink I\\'ve ordered here is prepared exactly the way it should be and that\\'s no easy feat because I am an espresso nazi! I also love the fact that they use beans from one of my favourite roasters in the city - Propeller! Their beans are vibrant, bright, sharp yet very smooth. The aromas and flavours are distinct but could be off putting to some who are used to that typical factory coffee or stale stuff that 95% of folks drink.\\\\n\\\\nThere you have it! Awesome coffee, expert baristas and a laid back, inviting atmosphere. It\\'s a winner!\"\\n \"Heard about this place from a coworker and saw the instagram pics and was hyped to check this place out.\\\\n\\\\nIt has a really nice modern feel but a vintage vibe with the typewriter theme, seems like it would be a really nice place to chill or do some work.\\\\n\\\\nTried the latte and it was very rich and flavourful, and the art was really nice but I\\'ll come back for the rainbow latte art next time.\\\\n\\\\nAlso tried the salami and brie sandwich and it was tasty. A nice lunch overall.\\\\n\\\\nOverall a friendly neighbourhood cafe, and I would come back again to try their other drinks.\"\\n \\'One of the best cafes in downtown Toronto! Great staff, excellent coffee, and cozy atmosphere. Loved their cappuccino. Highly recommend it!\\'\\n \\'There\\\\\\'s a quiet revolution happening in Canadian coffee shops.\\\\n\\\\nOnce a bastion of subpar pastries and cellophane wrapped snacks, a new wave of cafés are giving food the same care and attention as their coffee.\\\\n\\\\nIt\\\\\\'s hard to find a better example of a coffee shop with a next level baked goods than Page One.\\\\n\\\\nThe first thing you\\\\\\'ll notice at Page One, other than the Old writing machines allusion, is the seating space.\\\\n\\\\nIn the same way many coffee companies display their roasters, Page One kitchen is in full view. Its simple but refined menu features Canadian classics. My wife opted for the chicken sandwich, which she described as \"well constructed\" and \"perfect.\" It\\\\\\'s been some weeks since we visited and she still talks about it.\\\\n\\\\nThe music and atmosphere is great and either if you are looking to relax or work this is a great place to bring your laptop.\\\\n\\\\nDefinitely recommended, you won\\\\\\'t be disappointed.\\'\\n \"This is definitely the best coffee shop in the neighbourhood! Wonderful coffee selection, delicious Pluck tea selection, a whole bunch of tasty snacks and meals! It also functions as a bar so whatever you\\'re into drinking, you can get it here! If you like cider, definitely check out their drink menu, it\\'s rare that you see as many options as this place has.\\\\n\\\\nThis location is also BEAUTIFULLY accessible to mobility devices, with a push button entrance, lots of ground level seating, and an accessible washroom.\\\\n\\\\nThe atmosphere is great; they play fantastic music, have rly interesting and gorgeous art and decor, and have a very spacious.\\\\n\\\\nAnd the thing that sets it apart from Balzacs and the like nearby? Open late! I\\'ve been looking for the perfect coffee shop open past 10 in the downtown core and this is it.\\\\n\\\\nSeriously, do yourself a favour, bring that project you\\'ve been putting off and work on it here, get some chips and guacamole and a delicious hot beverage, feel great supporting accessible businesses!\"\\n \"I came here to catch up with a friend and was welcomed by a very sweet lady who was manning the til. She did give many suggestions but I\\'d have to agree with another customer who said the prices are a little on the pricier side. \\\\n\\\\nThe ambiance was nice but not enough to justify the prices.\"\\n \"Beer if you need it. Best coffe in the area (I\\'m told). \\\\nLots of space. Friendly. What more do you want from a coffee shop?\"\\n \"Awesome cafe with tons of seating. High quality coffee, pretty latte art, house-made sandwiches, and a really large selection of baked goods (I\\'ve tasted all of the pastries and there aren\\'t any I didn\\'t like which never happens for me!) Also if you ever want to grab a drink they offer $5 tall cans every day Jackpot!\"\\n \\'The food here is DISGUSTING and it\\\\\\'s an open kitchen so you get to see exactly why.\\\\n\\\\n\"The chef\" is a teenager in a tracksuit! He is also the one taking your order and handling the cash and cards. He makes your sandwhich in 10 min and here is what I watched him do:\\\\n\\\\n1. Didn\\\\\\'t wash his hands and didn\\\\\\'t use gloves EVEN AFTER TOUCHING THE CASH MACHINE!!\\\\n2. Constantly picked at his eyes and nose \\\\n3. Answered his phone twice while making the food..\\\\n4. And wiped his hands on his pants multiple times while touching the food \\\\n\\\\nIT WAS SO GROSS!!!!\\\\n\\\\nHow can you honestly expect someone to eat food that is prepared LIKE THIS?? \\\\n\\\\nAnd why am I paying 10$ for a sandwich that has so much germs in it. Not to mention I could\\\\\\'ve got a better sandwhich from Tim Hortons for half the price!\\\\n\\\\nI forced myself to have a bite only because I felt bad for the money I had spent. To my surprise (NOT!!!) it was disgusting. \\\\n\\\\nI don\\\\\\'t like to shame places on Yelp but don\\\\\\'t eat here unless you want food poisoning.\\\\n\\\\nAlso... please send a health inspector to this place because this is not ok!\\'\\n \"Yummmm... Writer\\'s Block looks as good as it tastes. Who wouldn\\'t want a little rum and Kahlua with their latte? Love it!!\"\\n \"Been here many times for coffee. It\\'s great- propeller I think- if not premium priced. Had brunch on Sunday recently and we tried the bread pudding French toast and sweet potato hash with chorizo. I\\'m not sure how often they refresh the menu, it\\'s not lengthy, but both dishes were fantastic. The space is clean and modern, all around great little spot.\"\\n \\'Really cool cafe/bar with awesome lattes and local craft beers on tap and many more unique canned beers. Their cocktails mixes in the evening are amazing as well. Be sure to ask Cody for a unique mix, he is always working on creating new concoctions and he will even take naming suggestions for his cocktails. \\\\n\\\\nPage One has great music selection that is played at levels to facilitate conversations or getting work done. I have spend hours working remotely from Page One and find it very comfortable. \\\\n\\\\nPlus I was pleasantly surprised one Friday evening when I found out that they host local bands, but check with them for dates if you want to attend one of the live events. Alternatively, Saturday nights are board game night at Page One.\\\\n\\\\nAlso, give their weekend brunch Ruben Sandwiches a try. That is one of their best sandwiches. \\\\n\\\\nOverall, the staff and owners at Page One are very friendly, and open to conversations if that is what you are looking for. And they are also on Ritual, so you can order your food from the app and then pick up your order and skip the line. Super convenient in the mornings on the go.\\'\\n \\'Amazing Coffee, great beer selection, good atmosphere and I love the fact that they turn into a bar in the evening!\\'\\n \\'Ordered warm almond milk at Page One. My expectation is a warm plain white frothy drink. Instead, I received a colourful swan in my almond milk! Made my day!\\'\\n \\'When our cheese plate arrived, Anh and I were disappointed that the cheese and crostinis were merely placed on a white ceramic square plate.  We had expected an elaborate wooden board with sliced cheese arranged meticulously on the board.  (We both had fond memories of the beautiful and fully loaded charcuterie board experienced at Nuit Social.)  Here at Page One, it was very simply a plate with cheese and crackers on it.  No frills!\\'\\n \\'Keeps evolving in fresh and awesome ways. Page One is your favorite morning coffee (pretty awesome), your school project meeting spot, your lunchtime gem when you are training across the street or at Ryerson, a great happy hour spot (yep $2 off), and your great venue...(was there randomly for a Bosnian party), now also your brunch spot. \\\\n\\\\nHats off. Well done.\\'\\n \\'Love this place. The coffee is outstanding and the beer selection is perfect. Plus, they know how to treat a customer.\\'\\n \\'My new favourite place!! So great to see a hybrid cafe-bar establishment opening up in the downtown core. Great staff, coffee, food & love the cocktails! Hidden gem with a great vibe in the historical Merchandise Building.\\'\\n \"I would be embarrassed if I were the owner. I ordered a tall boy of cider, they didn\\'t have what I ordered after already taking my money, and offered me an alternative (except they failed to mention the alternative was $38 instead of the $8 drink I had ordered!!!). When I left I was asked to pay $30 extra which was s complete surprise. After talking to the manager/owner and having him talk back to me explain how it was ok to charge almost $40 for a drink which was equivalent to two tall boys and if I had purchased them individually (if they were available as advertised on the menu!) It would have totalled $20. I\\'m disgusted with how they operate, not to mention it took over 30 mins to get the sandwich I ordered. I hope they go out of business soon. You ruined my already bad day, you suck.\"\\n \\'Great service, drinks, and atmosphere! The staff was super considerate and friendly - brought us water without our asking, which was really sweet. They can also make am earl grey version of the I-tea-lian soda, which is great. Also convenient hours for those working. Would recommend checking it out!\\'\\n \\'This place was awesome, super fun friendly staff and great coffee/cocktails! Perfect place for studying or just hanging out with a friend. They even made delicious rainbow lattes for pride\\'\\n \"So far the best place for coffee in downtown core. \\\\n\\\\nNot only the ambiance is great and music is chill, but if you come here to work with your laptop and love free wi-fi having a nice coffee and don\\'t want to listen to screaming and crazy people hanging around like in some coffee chain place this is the best option for you.\\\\n\\\\nI love coming here to work and I saw that at night they offer live shows and music with top rated DJs and serve alcohol as well.\\\\n\\\\nThe people working here are nice and I saw one of the owners talking to some costumer and other people passing by and he was really friendly and everybody was even just pop in to say hello to him (I know I\\'m a bit too nosy sometimes by it was nice to see that the place you love to go to, is owned by some nice people).\\\\n\\\\nI always prefer local patrons to large companies,\\\\nDon\\'t miss it, you won\\'t be disappointed.\"\\n \"Quaint coffee shop that is also a beer bar. Page One was down the street from my hotel and I stopped by here twice during my stay in Toronto. My first trip I had a matcha green tea latte with almond milk and some vegan energy bites and my second stop was for breakfast where I had a dirty chai latte with almond milk with a breakfast sandwich. The matcha latte had a beautiful latte art design and the energy bites were filling and made for a good midday snack. The chai latte was one of the best I\\'ve had, you can tell that they use fresh real ingredients and not any fake syrupy stuff. The breakfast sandwich had eggs, bacon, gouda and tomato pesto, it was delicious. Page One not only serves pretty drinks but the taste is as good as it looks!\"\\n \"Another gem around the Ryerson campus! \\\\n\\\\nI tried the ctrl alt delete tea and it\\'s actually SO GOOD. 5/5 for tea if I\\'m basing it solely on taste. Very aromatic and better than most teas I\\'ve tried at Davids Tea. Price wise, it was a little expensive in my opinion. It was around $3.50 for a cup smaller than a grande at Starbucks so the tea didn\\'t last me very long but it was very very good. Their menu selection seems pretty good, I already know what I want to try next time I\\'m there.\\\\n\\\\nI checked out Page One because I wanted a spot to do some work but when I went around 2:30pm on a Thursday it was PACKED (not just by students either). Hopefully next time I can get a seat because the cafe is cute as helllllll. There\\'s a huge wall of decor and I\\'m definitely going to try to grab a cool pic there for the gram \\\\n\\\\nIn summary: try the ctrl alt delete tea but be vary of prices and don\\'t expect a seat!\"\\n \"Great new addition to the historic Merchandise Building! \\\\n\\\\nPage One is spacious with large windows that are great for soaking up some natural light and/or people watching. Seating options are diverse, with a communal table up front, a number of individual tables, a bar, and a small cozy lounge area in the back for intimate hangouts. The atmosphere is very relaxed and the place is also beautifully decorated and clean.\\\\n\\\\nWe ordered a cortado and an americano from the friendly owner, Firas. Our drinks (made with Propeller coffee) arrived quickly and were delicious! With easy access to power outlets and free wifi, this was truly a great place to sit and work for a few hours. Looking forward to coming back and trying their food and craft beer.\\\\n\\\\nDefinitely give this place a try if you\\'re in the area!\"\\n \\'This place is overpriced, it might be well crafted but I found the price-tags extremely unreasonable. I was going to order a cortado, but it was $3.85 + tax, so I opted for a simple cup of coffee instead. Nothing special.\\'\\n \\'I was looking for somewhere quieter to chill at lunch to i came to this hidden Gem Page One to get a Mocha latte.  The coffee is Propeller coffee and the place has a great chill vibe.  If you arent a fan of the big chain environments then this is the place for you.  Im almost afraid to tell anybody because i really like this place.\\'\\n \\'Personally - I dig this cafe and bar concept. The type of place where the staff have random interesting stories. The owner himself, so genuine and cool. I was hear 18 months ago and he came out from the back to say hi and chat. Genuine people, genuine place\\'\\n \"An awesome place for students to work on assignments (if you don\\'t mind studying with music). There\\'s a lot of seating space, and the lights are dimmer compared to the bright lights in the library. The lavender London fog is awesome and so is the chai latte. Prices are fair and the baristas are super friendly, welcoming and chill. They also serve alcohol for you to celebrate upon completing your work! I also love the quotes all over the bathroom.\"\\n \\'Had burnt espressos last night. \\\\n\\\\nVery dark place at night! Lots of room, and just a couple of students doing work on their computers last night.\\\\n\\\\nClose to the Ryerson campus. Will go back to try the lattes instead!\\'\\n \\'Try the London fog & house white wine. AMAZING! Definitely my favorite little spot so far on our trip to Toronto. Staff is super sweet and knowledgeable on their menu!\\'\\n \\'very chill place to study, relax, have a day date, go out for drinks. all in one cafe/bar spot. not to mention loved the art on my latte.\\'\\n \"I had the fortune of first coming to Page One for a typewriter-themed event, and decided to have a going away gathering here, as I\\'ll be leaving the city soon. The venue was perfect for the event, because it had something for everyone - games, typewriters, alcohol, coffee, food, etc. I had an eclectic group coming so I was mindful of having it somewhere that could accommodate everyone. We ended up taking over most of the place and had a blast. Highly recommended for group events!\"\\n \"I can\\'t recommend this place enough! I went to Page One after work for a drink and absolutely loved the vibe. The decor is both inviting and unique, with a wall of antique typewriters, a variety of seating options including a cozy nook with a charming leather-bound couch, and fresh flowers on each table. Met the owners who were absolutely wonderful and who recommended a delicious strawberry cocktail. Also gave some of the baked goods a try, and was pleasantly surprised with how wonderfully fresh they were, even so late in the day.\\\\nLooking forward to their upcoming beer samplings on Friday night!\\\\nHighly recommend trying this place out - it\\'s a got something for everyone!\"\\n \\'Work nearby and something get a nicer coffee and pastry from there to enjoy, and which is not bad at all.  Staff is nice and the place is cool with nice music and dark cool ambiance like a bar (which is that page one is also a bar cafe at night).  \\\\n\\\\nNice for a date or meet up with 3 to 4 but I dull for a large group.  Sure, I will go some other time.\\'\\n \\'Was meeting a friend in the area and decided to go to this place based on the great reviews I read.\\\\nThe prices are crazy! I paid around $7 for a hazelnut latte, my friend paid around $5.60 for an iced green tea. She did not like it, nor did I like my latte. There was no hazelnut flavour in it, it was overly sweet, and it was not even a full cup! The photo is from before I started drinking it, this much for $7!!\\\\nNot mentioning that I had to wait so long for it to get ready as if they forgot about my order for 10 minutes. The person who was supposed to take my order ignored me for 5 minutes even though I saw that he saw me waiting to order.\\\\n\\\\nWill not be back to this place. So many other good coffee shops to go to.\\'\\n \"Awesome atmosphere and actually amazing coffee. Got a cappuccino for $4.20 and had a good laugh about it later because I\\'m 10 years old.\"\\n \\'The service was awesome in this place! The guy advices us the best beer ever! We will definitely come here again!\\'\\n \"!! Check out the art installation in the bathrooms. Such a nice touch !!\\\\n\\\\nOtherwise a great downtown café. I was drawn here from the gorgeous pictures I saw on Yelp. Unfortunately we didn\\'t get rainbow latte art, but I thoroughly enjoyed my hazelnut latte. \\\\n\\\\nWe arrived around 3:30pm on a Thursday and it was packed, but got a table within five minutes. This is by far the largest cafe I\\'ve ever set foot in, as usually one would expect maybe 20 seats. The lighting is pretty dim in here, especially as it now gets dark by 5pm. They also have an interesting mix of music, from mainstream to indie, but overall a chill vibe and decent for a study session. I definitely see myself returning to Page One.\"\\n \\'Lovely latte art, lactose free milk options, great service, hipster interior, and free WiFi! What else could you ask for?!\\\\n\\\\nJust wish I also had the rainbow cool latte art...\\'\\n \"The good: The latte art is cool and it seems like they make a lot of different designs. I got a teddy bear and thought it was cute. \\\\n\\\\nThe bad: I got a matcha latte and asked for soy milk since I wanted a lactose free alternative. It was one size (small) and the total came up to $7.20....what? I thought it was super expensive for what you get. It also tasted pretty mediocre. Maybe I haven\\'t tried enough good matcha latte to compare, but certainly didn\\'t have me wanting more. \\\\n\\\\nIf you have the money and the right taste buds, this is for you... otherwise hard pass.\"\\n \"I came here with a friend without reading all the reviews since it was raining and we wanted to get out of it asap.  I wish I had read some of the reviews now because it was not worth the wait and money.  \\\\n\\\\nAlthough I do appreciate a quality espresso every once in a while, I am not very picky and will drink anything resembling coffee.  Both of us got Nutella lattes since we\\'ve never tried anything like that before.  Thinking that it will be a flavored latte, I didn\\'t expect the drink to be so bad. The espresso shots that were used for our lattes were terrible that I could taste it through streamed milk.  A good espresso shot should not be overwhelmingly sour.  It should be balanced with some bitterness, which I did not taste at all.  The sourness of it was so overpowering that the only reason I finished it was because I needed the caffeine.  As for the Nutella, I could not taste any Nutella and it wasn\\'t until I stirred that I realized that all the Nutella was at the bottom.\\\\n\\\\nThe guy that took our order took at least 20 minutes make the drinks to make it even though there was no line.  I am not sure if they just had a bad day dialing in or they got a bad batch of beans but I certainly will not pay another $7 for a latte here.\"\\n \"Absolutely love this place! Every time we\\'re back to this neighbourhood, I always want to stop by this coffee shop! It\\'s truly a hidden gem and they do make decent coffees and espresso martinis. The ambiance is good and comply, perfect place to grab a coffee with friends and enjoy live music!\"\\n \"Cool downtown spot. BUT I was shocked to pay $28 for two draft beers ($10 each!) and a coffee. I take it personally to pay more than $8 for a beer. It\\'s undemocratic! It\\'s against the spirit of beer!\"\\n \"This is one classy coffee joint! The staff are super friendly and the coffee is the best I think I\\'ve had in Toronto, and that\\'s coming from someone who has probably had coffee in every indie coffee shop in the city! They have a great selection of yummy snacks including some great healthy options (gluten free and vegetarian) and delicious sandwiches. This is the perfect place if you\\'re looking for a little peace and ambiance to focus on your work or want to hang out with friends in the evening with some seriously good beer! Page One is an absolute gem of a place that I can\\'t recommend highly enough!\"\\n \"Mocking your customers? Really not OK.\\\\n\\\\nI live locally to this (reasonably) new establishment and had started to come here frequently for coffees and lunch. On my most recent visit a few weeks ago, I came in with my husband, ordered coffee and sat inside to drink them. It was fairly quiet in the café and to my surprise after sitting down at our table I heard the 2 staff members working at the time (a male and a female, I believe the female was \\'in charge\\') looking over at us/pointing at us, giggling, and (loud enough for us to hear) mocking our accents in an extremely derogatory fashion. They were greatly amused by impersonating us on how we ordered coffee (which for the record was exactly how anyone else would order a coffee, except I am British and I have an accent). I\\'m a paying customer sitting only a few feet away - to mock me openly and loudly is both extremely rude and unprofessional. Congrats on losing our custom and respect. We won\\'t be back.\"\\n \\'Best place plz come I would highly recommend great service, food, and beautiful setting and I would just recommend it to anyone in the neighbourhood or anywhere to go and visit this amazing cafe.\\'\\n \"The perfect cafe /bar for a University campus. I\\'ve been coming here for years and I\\'m surprised that I haven\\'t left a review. Open till 10pm, super fast WiFi 252/196, many electrical outlets, big desks for group or individual work. Nice area to chill in the back for groups. Breakfast sandwiches all day, options for beer and drinks, chill music. Three washrooms which is great for a place this size. They have a patio. Definitely recommended.\"\\n \"WOW this place is ALMOST as good as it gets. \\\\n\\\\nIt\\'s probably my FAVORITE cafe in Toronto. Someone from my work recommended it to me, and I live so close to this place that I can\\'t believe I haven\\'t heard of it before. \\\\n\\\\nThe ambience is great. It gave me cool, fun and friendly hostel vibes from backpacking in Europe. Music wasn\\'t too loud and it was filled with people (students and non-students) just working, sprinkled in with the occasional dates here and there. All in all, I felt very comfortable and very at ease. This will definitely be one of my to-go cafes in Toronto. \\\\n\\\\nI had a great time with my friends, just hanging out and working. \\\\n\\\\nBut.. I ordered a matcha latte and it came out to be almost 7 dollars. You know what I could buy without almost 7 dollars? \\\\n\\\\nI would not order the matcha latte ever again.\"\\n \"A hidden gem tucked away by RU\\'s campus, this place has the perfect moody atmosphere catering to the academic and work crowd as a cafe and cocktail bar hybrid. Incredibly friendly and cool hipster baristas, jazz music/good vibes and experience all around.\"\\n \"Environment was really nice, filled with students working on their laptops and people having business meetings. I didn\\'t know what to order since majority of their menu was coffee based and I\\'m not really a big fan of coffee. I opted for the hot chocolate, I liked how the barista made latte art for the hot chcolate. There was a second upper deck where there are more seats. In the end, the hot chocolate was okay, didn\\'t really wow me though.\"\\n \"Page one is a little overpriced for my student budget. A single cookie costed $3 and it was not soft nor was is gooey. It was just a regular Cooke. I\\'m rating the cookie here. The Nutella latte was worth its price. But I\\'d only come back to treat myself to the latte\"\\n \"The latte I had was good. I ordered the two piece avocado toast and specified for it to be made with vegan aioli, when I received it I double checked that it was made vegan and she said it wasn\\'t and she would remake it. 15 minutes later she returned with one piece of avocado toast? I\\'m guessing she ran out of bread because the first plate had two pieces... but I paid nearly $16 for two pieces and only received one... what a rip off.\"\\n \"This place is horrible and the owners attitude disgusts me. I came in for a brief visit and saw a cockroach run across the counter, I proceeded to leave without buying anything and wrote my original very brief review. Even the slightest bit of research can lead you to find the building that this place resides in has multiple reports of cockroaches. \\\\nThe owner then attacked me over messages accusing me of being a former employee and threatened me with legal recourse? This place has serious issues. They must not treat their employees with any respect or decency if they have to worry about that! I can\\'t speak on the quality of their product. But I will never return and would strongly advise anyone to stay far clear of this place. Most places In Toronto have some sort of pest issue. To verbally attack and threaten someone for noticing and mentioning it is just, Beyond words. \\\\n\\\\nWhat a deplorable experience.\"\\n \\'The service at this place is always the same super super slow.  I ordered a avocado toast. Even though I was there first they served before other people and made their coffee. By the time they put the avocado together my toast was no longer warm.  $9 15 minutes\\\\nEverything is expensive\\'\\n \"Right by Ryerson campus. Came during the day, on a weekday, so no reviews on the bar. Very friendly staff, great cappuccino, okay prices, free wifi (an hour at a time). \\\\n\\\\nBusy with lots of seating cramped into a small space, dim lighting, a few outlets available. Has a bit of a basement nook feel. They play their music really loudly, kind of hard to concentrate if you\\'re there to do work. I would prefer to hang out here rather than try to focus on working simply due to the volume.\"\\n \\'Awesome modern place with a cool design inside, delicious Nutella latte with colorful art.\\'\\n \"Great service + wonderful atmosphere; busy but not crowded, lively but not obnoxious. Great place to grab a coffee to go through their app, work for a few hours with plenty of outlets, tables and Wifi, or catch up with a friend over cocktails. Clearly well managed but not corporate.\\\\n\\\\nMy only gripe is that the internet is a free Beanfield connection that kicks you out after an hour which can be a hassle if you\\'re working online. Would love to see a dedicated WiFi in the future, but it\\'s a transparent blemish on my new, versatile favorite spot.\"\\n \"Good food, good coffee and cute baristas :p \\\\n\\\\nCame by during my breaks from lectures and it was extremely busy. I snuck in and tiptoed past the barista explaining I was checking if seats were available - there weren\\'t, but luckily, a pair was getting up and leaving so we managed to snag their seats.\\\\n\\\\nI got their chai apricot yogurt, along with a vanilla latte and an egg muffin. Delicious all around! Although, I would pass on the yogurt next time, as it\\'s really healthy and the apricot acts as the sweetner. I\\'d say Page One is more on the pricey side for cafes but extremely worth it. It is a good atmosphere to be in. \\\\n\\\\nThey also offer a bar so I\\'d like to swing by one night and check it out.\"\\n \"Great study/work spot near the dt core. They have a huge selection of coffees, teas, kombucha, and even alcohol. I\\'ve been here a few times and it\\'s the perfect atmosphere to get work done. They have tons of tables and outlets inside.\\\\n\\\\nThe food and drinks themselves are decent. I tried the mango kombucha once and it wasn\\'t that great tbh--not enough carbonation--I\\'d much rather a GT\\'s kombucha. I don\\'t remember what drink I got the other time tbh--it was prob an iced coffee and clearly wasn\\'t memorable.\"\\n \\'All the latte art photos made me think the coffees would be good here.\\\\n\\\\nWe had Nutella Latte and Mocha and both were very milky.\\\\nMocha latte had no flavour of chocolate or espresso, just tasted like drinking hot milk. Nutella latte had some flavour of nutella, but still pretty bland in general. Some people may like milky coffees but that is not my cup of tea.\\\\n\\\\nLatte art was good, but there is more to coffee making imo.\\']'"
      ]
     },
     "execution_count": 90,
     "metadata": {},
     "output_type": "execute_result"
    }
   ],
   "source": [
    "text"
   ]
  },
  {
   "cell_type": "code",
   "execution_count": 94,
   "metadata": {},
   "outputs": [
    {
     "data": {
      "text/plain": [
       "milk_fraction          0.156627\n",
       "egg_fraction           0.036145\n",
       "fish_fraction          0.072289\n",
       "crustacean_fraction    0.000000\n",
       "tree_nut_fraction      0.096386\n",
       "peanut_fraction        0.000000\n",
       "wheat_fraction         0.024096\n",
       "soy_fraction           0.024096\n",
       "Name: HkPnai4LMRjAYZkZ2AQLkA, dtype: float64"
      ]
     },
     "execution_count": 94,
     "metadata": {},
     "output_type": "execute_result"
    }
   ],
   "source": [
    "df_contains.loc[id_1]"
   ]
  },
  {
   "cell_type": "code",
   "execution_count": 96,
   "metadata": {},
   "outputs": [
    {
     "data": {
      "text/plain": [
       "allergy_fraction        0.000000\n",
       "allergy_sentiment            NaN\n",
       "vegan_fraction          0.024096\n",
       "vegan_sentiment        -0.500000\n",
       "vegetarian_fraction     0.024096\n",
       "vegetarian_sentiment    1.000000\n",
       "celiac_fraction         0.024096\n",
       "celiac_sentiment        1.000000\n",
       "Name: HkPnai4LMRjAYZkZ2AQLkA, dtype: float64"
      ]
     },
     "execution_count": 96,
     "metadata": {},
     "output_type": "execute_result"
    }
   ],
   "source": [
    "df_dietary.loc[id_1]"
   ]
  },
  {
   "cell_type": "code",
   "execution_count": null,
   "metadata": {},
   "outputs": [],
   "source": []
  }
 ],
 "metadata": {
  "kernelspec": {
   "display_name": "Python 3",
   "language": "python",
   "name": "python3"
  },
  "language_info": {
   "codemirror_mode": {
    "name": "ipython",
    "version": 3
   },
   "file_extension": ".py",
   "mimetype": "text/x-python",
   "name": "python",
   "nbconvert_exporter": "python",
   "pygments_lexer": "ipython3",
   "version": "3.7.6"
  }
 },
 "nbformat": 4,
 "nbformat_minor": 4
}
